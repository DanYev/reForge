{
  "cells": [
    {
      "cell_type": "markdown",
      "metadata": {},
      "source": [
        "\n# Simple CG Protein\n\nSimple Go-Martini setup\n\nRequirements:\n    - GROMACS\n    - Python 3.x\n\nAuthor: DY\n"
      ]
    },
    {
      "cell_type": "code",
      "execution_count": null,
      "metadata": {
        "collapsed": false
      },
      "outputs": [],
      "source": [
        "import os\nfrom reforge import cli\nfrom reforge.mdsystem.gmxmd import GmxSystem, GmxRun"
      ]
    },
    {
      "cell_type": "markdown",
      "metadata": {},
      "source": [
        "First, we need to initialize an instance of *GmxSystem*, which will handle path management\nand the necessary files. This instance uses the parent directory *'systems'* (relative to the current\ndirectory) and the root directory *'test'* within *'systems'* for the system.\n\n"
      ]
    },
    {
      "cell_type": "code",
      "execution_count": null,
      "metadata": {
        "collapsed": false
      },
      "outputs": [],
      "source": [
        "mdsys = GmxSystem(sysdir='systems', sysname='test')"
      ]
    },
    {
      "cell_type": "markdown",
      "metadata": {},
      "source": [
        "Next, prepare the necessary files by calling *prepare_files()*.\n\n"
      ]
    },
    {
      "cell_type": "code",
      "execution_count": null,
      "metadata": {
        "collapsed": false
      },
      "outputs": [],
      "source": [
        "mdsys.prepare_files()\n\n# List the files in the system's root directory:\nfor f in mdsys.root.iterdir():\n    print(f)"
      ]
    },
    {
      "cell_type": "markdown",
      "metadata": {},
      "source": [
        "Sort chains and atoms in the input PDB file to avoid future conflicts.\nThis creates a file (named *inpdb.pdb*) that can later be accessed as *mdsys.inpdb*.\n\n"
      ]
    },
    {
      "cell_type": "code",
      "execution_count": null,
      "metadata": {
        "collapsed": false
      },
      "outputs": [],
      "source": [
        "in_pdb = mdsys.root / \"1btl.pdb\"  # can be relative to *mdsys.root* or an absolute path\nmdsys.sort_input_pdb(in_pdb)\nprint(mdsys.inpdb)"
      ]
    },
    {
      "cell_type": "markdown",
      "metadata": {},
      "source": [
        "Although there are multiple chains in this case, the *split_chains()* method\nsplits *mdsys.inpdb* into separate chains and moves protein and RNA/DNA files to their respective directories.\n\n"
      ]
    },
    {
      "cell_type": "code",
      "execution_count": null,
      "metadata": {
        "collapsed": false
      },
      "outputs": [],
      "source": [
        "mdsys.split_chains()"
      ]
    },
    {
      "cell_type": "markdown",
      "metadata": {},
      "source": [
        "Coarse-grain the proteins using *martinize2* (by Martini) with the following parameters:\n    *go_eps* = 10.0, *go_low* = 0.3, *go_up* = 1.0,\n    *p* = \"backbone\", *pf* = 500, *append* = False\n\n"
      ]
    },
    {
      "cell_type": "code",
      "execution_count": null,
      "metadata": {
        "collapsed": false
      },
      "outputs": [],
      "source": [
        "mdsys.martinize_proteins_go(go_eps=10.0, go_low=0.3, go_up=1.0, p=\"backbone\", pf=500, append=False)"
      ]
    },
    {
      "cell_type": "markdown",
      "metadata": {},
      "source": [
        "Inspect the generated topology files. The topology should include the main protein topology file\n*chain_A.itp* as well as the virtual sites parameters for the GO model:\n*go_atomtypes.itp* and *go_nbparams.itp*.\n\n"
      ]
    },
    {
      "cell_type": "code",
      "execution_count": null,
      "metadata": {
        "collapsed": false
      },
      "outputs": [],
      "source": [
        "for f in mdsys.topdir.iterdir():\n    print(f)"
      ]
    },
    {
      "cell_type": "markdown",
      "metadata": {},
      "source": [
        "Check the coarse-grained structure in the *cgdir* directory.\n\n"
      ]
    },
    {
      "cell_type": "code",
      "execution_count": null,
      "metadata": {
        "collapsed": false
      },
      "outputs": [],
      "source": [
        "for f in mdsys.cgdir.iterdir():\n    print(f)"
      ]
    },
    {
      "cell_type": "markdown",
      "metadata": {},
      "source": [
        "Combine all topology and structure files.\nThe method *make_cg_topology()* uses GROMACS's *gmx pdb2gmx* module to create the simulation box.\n(See online documentation for details.)\nIt returns the CG topology as *mdsys.systop* (i.e. \"mdsys.top\").\n\n"
      ]
    },
    {
      "cell_type": "code",
      "execution_count": null,
      "metadata": {
        "collapsed": false
      },
      "outputs": [],
      "source": [
        "mdsys.make_cg_topology()\n\n# The method *make_cg_structure()* creates the CG structure.\n# Here, *bt* = 'dodecahedron' and *d* = '1.2'; it returns *mdsys.solupdb* (i.e. \"solute.pdb\").\nmdsys.make_cg_structure(bt='dodecahedron', d='1.2')"
      ]
    },
    {
      "cell_type": "markdown",
      "metadata": {},
      "source": [
        "Add solvent and neutralize the system's charge.\n\n"
      ]
    },
    {
      "cell_type": "code",
      "execution_count": null,
      "metadata": {
        "collapsed": false
      },
      "outputs": [],
      "source": [
        "solvent = mdsys.root / \"water.gro\"\nmdsys.solvate(cp=mdsys.solupdb, cs=solvent)\nmdsys.add_bulk_ions(conc=0.15, pname=\"NA\", nname=\"CL\")"
      ]
    },
    {
      "cell_type": "markdown",
      "metadata": {},
      "source": [
        "To work with GROMACS selections, generate an index file (*mdsys.sysndx*).\nThe default group order is: 1. *System*, 2. *Solute*, 3. *Backbone*, 4. *Solvent*, 5. *Not Water*, and then 6+ individual chains.\nCustom groups can be added using the method *AtomList.write_to_ndx()*.\n\n"
      ]
    },
    {
      "cell_type": "code",
      "execution_count": null,
      "metadata": {
        "collapsed": false
      },
      "outputs": [],
      "source": [
        "mdsys.make_system_ndx(backbone_atoms=[\"BB\"])"
      ]
    },
    {
      "cell_type": "markdown",
      "metadata": {},
      "source": [
        "One of the convenient features of *GmxSystem* is the ability to execute GROMACS commands\ndirectly from your Python script using *GmxSystem.gmx*. This runs the command in the system's working directory.\nFor example, to view the system (using VMD or PyMOL), you must first correct the generated box for\nperiodic boundary conditions. This is done with GROMACS's *trjconv* module:\n\n"
      ]
    },
    {
      "cell_type": "code",
      "execution_count": null,
      "metadata": {
        "collapsed": false
      },
      "outputs": [],
      "source": [
        "mdsys.gmx(\"trjconv\", clinput='0\\n', s=mdsys.syspdb, f=mdsys.syspdb, pbc='atom', ur='compact', o=\"viz.pdb\")"
      ]
    }
  ],
  "metadata": {
    "kernelspec": {
      "display_name": "Python 3",
      "language": "python",
      "name": "python3"
    },
    "language_info": {
      "codemirror_mode": {
        "name": "ipython",
        "version": 3
      },
      "file_extension": ".py",
      "mimetype": "text/x-python",
      "name": "python",
      "nbconvert_exporter": "python",
      "pygments_lexer": "ipython3",
      "version": "3.12.9"
    }
  },
  "nbformat": 4,
  "nbformat_minor": 0
}