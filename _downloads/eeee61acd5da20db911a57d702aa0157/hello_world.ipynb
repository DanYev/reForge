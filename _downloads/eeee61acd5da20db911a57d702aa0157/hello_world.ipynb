{
  "cells": [
    {
      "cell_type": "markdown",
      "metadata": {},
      "source": [
        "\n# Hello World!\n\nInterface Tutorial\n\nRequirements:\n    - HPC cluster\n    - Python 3.x\n\nAuthor: DY\n"
      ]
    },
    {
      "cell_type": "code",
      "execution_count": null,
      "metadata": {
        "collapsed": false
      },
      "outputs": [],
      "source": [
        "from pathlib import Path\nimport os\nimport time"
      ]
    },
    {
      "cell_type": "markdown",
      "metadata": {},
      "source": [
        "One of the motivations behind reForge was to provide a user- and beginner-friendly interface\nfor managing potentially hundreds or thousands of MD simulations without having to switch \nbetween multiple scripts and constantly rewriting them\u2014all while staying within Python.\nThis is exactly what the 'cli' module is designed for.\n\n"
      ]
    },
    {
      "cell_type": "code",
      "execution_count": null,
      "metadata": {
        "collapsed": false
      },
      "outputs": [],
      "source": [
        "from reforge.cli import run, sbatch, dojob"
      ]
    },
    {
      "cell_type": "markdown",
      "metadata": {},
      "source": [
        "The idea is very simple: suppose you have \"n\" mutants and you need to perform \"n\" independent runs \nfor each mutant to achieve sufficient sampling.\n\n"
      ]
    },
    {
      "cell_type": "code",
      "execution_count": null,
      "metadata": {
        "collapsed": false
      },
      "outputs": [],
      "source": [
        "systems = [f'mutant_{i}' for i in range(4)]\nmdruns = [f'mdrun_{i}' for i in range(4)]"
      ]
    },
    {
      "cell_type": "markdown",
      "metadata": {},
      "source": [
        "The functions run, sbatch, and dojob allow you to execute the same script for all cases:\n\n"
      ]
    },
    {
      "cell_type": "code",
      "execution_count": null,
      "metadata": {
        "collapsed": false
      },
      "outputs": [],
      "source": [
        "for system in systems:\n    for mdrun in mdruns:\n        run(f'echo \"Hello, I\\'m run {mdrun} of {system}\"')"
      ]
    },
    {
      "cell_type": "markdown",
      "metadata": {},
      "source": [
        "Alternatively, you can call run like this:\n\n"
      ]
    },
    {
      "cell_type": "code",
      "execution_count": null,
      "metadata": {
        "collapsed": false
      },
      "outputs": [],
      "source": [
        "for system in systems:\n    for mdrun in mdruns:\n        run('echo', 'Hello, I\\'m run', f'{mdrun} of {system}')"
      ]
    },
    {
      "cell_type": "markdown",
      "metadata": {},
      "source": [
        "Alternatively, you can sbatch a script. This command passes all positional arguments to the script \nand keyword arguments to the SLURM scheduler.\n\n"
      ]
    },
    {
      "cell_type": "code",
      "execution_count": null,
      "metadata": {
        "collapsed": false
      },
      "outputs": [],
      "source": [
        "if 0:  # Set to 1 to actually submit jobs.\n    for system in systems:\n        for mdrun in mdruns:\n            sbatch('hello.sh', mdrun, system, mem='50M', t='00:00:01', partition='htc', qos='public')"
      ]
    },
    {
      "cell_type": "markdown",
      "metadata": {},
      "source": [
        "By default, output is written to \"slurm_jobs/output_file\" and \"slurm_jobs/error_file\".\n\n"
      ]
    },
    {
      "cell_type": "code",
      "execution_count": null,
      "metadata": {
        "collapsed": false
      },
      "outputs": [],
      "source": [
        "outfiles = [f for f in Path('slurm_jobs').glob('*output*')]\nfor fpath in outfiles:\n    with open(fpath, 'r') as file:\n        # Print only the first line of each output file.\n        print(file.readline(), end='')"
      ]
    },
    {
      "cell_type": "markdown",
      "metadata": {},
      "source": [
        "For convenience, dojob will either submit or run the script based on its first argument.\nIn this case, we do not want to sbatch the script.\n\n"
      ]
    },
    {
      "cell_type": "code",
      "execution_count": null,
      "metadata": {
        "collapsed": false
      },
      "outputs": [],
      "source": [
        "submit = False\nfor system in systems:\n    for mdrun in mdruns:\n        dojob(submit, 'hello.sh', mdrun, system, mem='50M', t='00:00:01', partition='htc', qos='public')"
      ]
    }
  ],
  "metadata": {
    "kernelspec": {
      "display_name": "Python 3",
      "language": "python",
      "name": "python3"
    },
    "language_info": {
      "codemirror_mode": {
        "name": "ipython",
        "version": 3
      },
      "file_extension": ".py",
      "mimetype": "text/x-python",
      "name": "python",
      "nbconvert_exporter": "python",
      "pygments_lexer": "ipython3",
      "version": "3.12.9"
    }
  },
  "nbformat": 4,
  "nbformat_minor": 0
}